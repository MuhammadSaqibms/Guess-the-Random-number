{
 "cells": [
  {
   "cell_type": "markdown",
   "metadata": {},
   "source": []
  },
  {
   "cell_type": "code",
   "execution_count": 1,
   "metadata": {},
   "outputs": [],
   "source": [
    "import random"
   ]
  },
  {
   "cell_type": "code",
   "execution_count": 6,
   "metadata": {},
   "outputs": [
    {
     "name": "stdout",
     "output_type": "stream",
     "text": [
      "Yayyyyy you guessed it correctly!!!! 6 congratz\n"
     ]
    }
   ],
   "source": [
    "def guess(x):\n",
    "    random_number = random.randint(1,x)\n",
    "    guess=0\n",
    "    while guess != random_number:\n",
    "        guess = int(input(\"Guess a number between 1 and {x} : \"))\n",
    "        if guess < random_number:\n",
    "            print(\"Your guess is too low\")\n",
    "        elif guess > random_number:\n",
    "            print(\"Your guess is too high\")\n",
    "        \n",
    "    print(f'Yayyyyy you guessed it correctly!!!! {random_number} congratz')\n",
    "\n",
    "guess(10)"
   ]
  },
  {
   "cell_type": "code",
   "execution_count": 10,
   "metadata": {},
   "outputs": [
    {
     "name": "stdout",
     "output_type": "stream",
     "text": [
      "Yes!! You won\n"
     ]
    }
   ],
   "source": []
  },
  {
   "cell_type": "code",
   "execution_count": null,
   "metadata": {},
   "outputs": [],
   "source": []
  },
  {
   "cell_type": "code",
   "execution_count": null,
   "metadata": {},
   "outputs": [],
   "source": []
  }
 ],
 "metadata": {
  "kernelspec": {
   "display_name": "base",
   "language": "python",
   "name": "python3"
  },
  "language_info": {
   "codemirror_mode": {
    "name": "ipython",
    "version": 3
   },
   "file_extension": ".py",
   "mimetype": "text/x-python",
   "name": "python",
   "nbconvert_exporter": "python",
   "pygments_lexer": "ipython3",
   "version": "3.9.12"
  },
  "orig_nbformat": 4,
  "vscode": {
   "interpreter": {
    "hash": "07783fb5dbb8dd9af620bc57014473549a66535bffacc6ba7dafe39bd5ccfb62"
   }
  }
 },
 "nbformat": 4,
 "nbformat_minor": 2
}
